{
 "cells": [
  {
   "cell_type": "markdown",
   "id": "348afd4c",
   "metadata": {
    "tags": []
   },
   "source": [
    "<center><h1> Full-Body Tracking Using OpenPose </h1>\n",
    "\n",
    "\n",
    "<h3> James Trujillo ( james.trujillo@donders.ru.nl )<br>Wim Pouw ( wim.pouw@donders.ru.nl )<br>\n",
    "    18-11-2021 </h3>\n",
    "    \n",
    "<img src=\"./images/envision_banner.png\"> </center>\n",
    "\n",
    "<h3> Info documents </h3>\n",
    "This module demonstrates an alternative full-body tracking approach called OpenPose. We provide code for running the motion tracking using OpenPose, and discuss how it compares to MediaPipe.\n",
    "<br><br>\n",
    "\n",
    "* OpenPose citation:\n",
    "Z. Cao, G. Hidalgo, T. Simon, S. -E. Wei and Y. Sheikh, \"OpenPose: Realtime Multi-Person 2D Pose Estimation Using Part Affinity Fields,\" in <i>IEEE Transactions on Pattern Analysis and Machine Intelligence</i>, vol. 43, no. 1, pp. 172-186, 1 Jan. 2021, doi: 10.1109/TPAMI.2019.2929257.\n",
    "<br>DOI: 10.1109/TPAMI.2019.2929257 <br>\n",
    "\n",
    "* location code: \n",
    "https://osf.io/rxb8j/\n",
    "<i>ALL_MATERIALS_DOWNLOAD_V1.rar</i>\n",
    "\n",
    "* citation: \n",
    "Trujillo, J.P. & Pouw, W.  (2021-11-18). <i> Full-Body Tracking Using OpenPose </i> \\[day you visited the site]. Retrieved from: https://github.com/WimPouw/EnvisionBootcamp2021/tree/main/Python/MediaBodyTracking \n",
    "\n",
    "\n",
    "<h3> Introduction </h3>\n",
    "OpenPose provides another method of performing motion tracking of video or image data. While it's not as lightweight as MediaPipe, it has the option of running it on a GPU (faster method, but requires a more powerful computer) or on a CPU (more accessible, but much slower). In this module, we won't go into details regarding installation or any in-depth OpenPose code per se. Instead, we will provide an overview of how OpenPose compares, and provide links to resources where you <i>can</i> learn more about getting started, performing tracking, etc. <br>\n",
    "In general, if you visit our OSF project linked above and download the materials, you'll find some instructions on how to get things running in the <i>Instructions.txt</i> file. <br>"
   ]
  },
  {
   "cell_type": "code",
   "execution_count": 1,
   "id": "50525cab-0e8c-4630-891e-dbb42bf3b1bd",
   "metadata": {},
   "outputs": [
    {
     "name": "stderr",
     "output_type": "stream",
     "text": [
      "C:\\ProgramData\\Anaconda3\\lib\\site-packages\\IPython\\core\\display.py:717: UserWarning: Consider using IPython.display.IFrame instead\n",
      "  warnings.warn(\"Consider using IPython.display.IFrame instead\")\n"
     ]
    },
    {
     "data": {
      "text/html": [
       "<iframe width=\"935\" height=\"584\" src=\"https://www.youtube.com/embed/mw8RymohMp0?start=8045\" title=\"YouTube video player\" frameborder=\"0\" allow=\"accelerometer; autoplay; clipboard-write; encrypted-media; gyroscope; picture-in-picture\" allowfullscreen></iframe>"
      ],
      "text/plain": [
       "<IPython.core.display.HTML object>"
      ]
     },
     "execution_count": 1,
     "metadata": {},
     "output_type": "execute_result"
    }
   ],
   "source": [
    "from IPython.display import HTML\n",
    "\n",
    "HTML('<iframe width=\"935\" height=\"584\" src=\"https://www.youtube.com/embed/mw8RymohMp0?start=8045\" title=\"YouTube video player\" frameborder=\"0\" allow=\"accelerometer; autoplay; clipboard-write; encrypted-media; gyroscope; picture-in-picture\" allowfullscreen></iframe>')"
   ]
  },
  {
   "cell_type": "markdown",
   "id": "a99950fe-5c0e-4cd9-ad12-3fb31a623949",
   "metadata": {},
   "source": [
    "<h3> Running OpenPose </h3>\n",
    "For this module, we stick to using the off-the-shelf OpenPoseDemo.exe program provided on the OpenPose GitHub page. This simple program can still be run in customizable ways depending on yours needs. For example, you can adjust the speed-precision trade-off, determine whether or not you want detailed hand tracking, and whether you want an output file with the keypoints drawn on. As part of the OSF resource linked above, we created a bash script that runs through a particular folder and runs OpenPose on each video it finds, saving the output data in a separate directory. Below you see the code for this bash script, which is available in the OSF link above, as OpenPose_loop.sh"
   ]
  },
  {
   "cell_type": "raw",
   "id": "73a9efad",
   "metadata": {},
   "source": [
    "#!/bin/bash\n",
    "#this will go through all files with a .mp4 extension in the DIR path, renaming them to remove spaces, and then running the motion tracking\n",
    "#The code is currently set to do body and hand tracking, saving keypoints (joint positions) as well as the tracked video.\n",
    "\n",
    "DIR=videos_to_analyze/analyze_folder/\n",
    "for file in \"$DIR\"*.mp4\n",
    "do\n",
    "\tfile_new=$(sed 's/ /_/g' <<< \"$file\") #rename the file so there are no spaces, otherwise it won't run\n",
    "\techo $file\n",
    "\techo $file_new\n",
    "\tmv \"$file\" \"$file_new\"\n",
    "\tfilename=\"${file_new##*/}\" #strip the path, so we also just have the filename\n",
    "\n",
    "\t#set output folder and filenames\n",
    "\toutput_json_folder=\"output/${filename}/\"\n",
    "\toutput_video_filename=\"${output_json_folder}video_track.avi\"\n",
    "\techo $output_video_filename\n",
    "\tmkdir $output_json_folder #make the output folder\n",
    "\n",
    "\t#run the analysis\n",
    "\tbin/OpenPoseDemo.exe --video $file_new --hand --write_json $output_json_folder --write_video $output_video_filename\n",
    "done"
   ]
  },
  {
   "cell_type": "markdown",
   "id": "10c3c5fe",
   "metadata": {},
   "source": [
    "The first bit of the script is just getting the list of files that it needs to process, and then creating variable names for its output files and directors. Then we actually run the analysis in this line:<br>\n",
    "<i>bin/OpenPoseDemo.exe --video \\\\$file_new --hand --write_json \\\\$output_json_folder --write_video \\\\$output_video_filename</i>\n",
    "<br>There are a couple of things we can customize here. <br>\n",
    "\n",
    "* Removing the <i>--hand</i> flag removes tracking of the individual fingers, and also speeds up tracking perforamance\n",
    "* Removing the <i>--write_video</i> flag and <i>//$output_video_filename</i> ensures no video file is created. We recommend keeping this in as an easy way to check tracking quality\n",
    "* You can add a flag to reduce the quality of tracking in order to speed up the process. This may be desirable when processing large corpora which would otherwise have unfeasibly long processing times. Of course, you should then be extra sure that this reduction still results in accurate tracking. In order to do this you can add the flag <i>--net_resolution \"320x176\"</i><br>\n",
    "<h3>Output</h3>\n",
    "In contrast to the 3D coordinates provided by MediaPipe, OpenPose only provides 2D coordinates. These are given in pixels. This again can make it difficult to compare videos that were recorded from different viewpoints or distances from the subjects.<br>\n",
    "However, OpenPose has the advantage that it can track full bodies, including the hands, from multiple participants at once. <br>\n",
    "<img src=\"./images/pose_face_hands.gif\"> </center> (image from https://github.com/CMU-Perceptual-Computing-Lab/openpose ) <br><br>\n",
    "This makes OpenPose a useful solution to interaction-focused projects where multiple participants are in view, and where some overlap makes it difficult to separate the video into single-subject views.<br>\n",
    "Note that you will then need to link tracked bodies from frame to frame. This is simply because OpenPose sometimes has tracking errors (like any video-based tracker) where an 'extra' body is detected, or one of the actual individuals is missing, making the ordering of individuals in your output data reliable <i>most</i> of the time, but not always.<br>\n",
    "Below, we provide some python code for extracting the coordinates from the .json files that OpenPose provides, converting them into a dataframe, and ensuring that we are consistent with our ordering of subjects. This is useful, for example, if you have two individuals interacting with one another, and you want to extract a dataframe of participant A, and a dataframe of participant B."
   ]
  },
  {
   "cell_type": "code",
   "execution_count": 2,
   "id": "42c1f237",
   "metadata": {},
   "outputs": [],
   "source": [
    "\"\"\"\n",
    "Imports the json files and collects seperate variables for each joint of interest.\n",
    "These are used for subsequent Analyze script, and are also saved for data inspection.\n",
    "\n",
    "Output: Velocity vectors for each hand; tracking-confidence for each hand; velocity & confidence plots\n",
    "\n",
    "\n",
    "Created on Tue Jan 29 16:01:29 2019\n",
    "@author: James Trujillo\n",
    "\"\"\"\n",
    "\n",
    "import os\n",
    "import json\n",
    "import matplotlib.pyplot as plt\n",
    "import math\n",
    "import csv\n",
    "import numpy as np\n",
    "import json\n",
    "import pandas as pd\n",
    "\n",
    "def import_json_data(vid_path):\n",
    "    FPS = 25\n",
    "\n",
    "    if os.path.isdir(vid_path):\n",
    "\n",
    "        files = os.listdir(vid_path)\n",
    "        R_Hand = []\n",
    "        L_Hand = []\n",
    "        Nose = []\n",
    "        Neck = []\n",
    "        MidHip = []\n",
    "        REye = []\n",
    "        LEye = []\n",
    "        LElb = []\n",
    "        RElb = []\n",
    "        LHip = []\n",
    "        RHip = []\n",
    "        LEar = []\n",
    "        REar = []\n",
    "\n",
    "\n",
    "        valid_num = 0  # marker for most recent valid file. Used for exception handling\n",
    "        ref = 1500\n",
    "        for num, file in enumerate(files):\n",
    "            miss_data = 0\n",
    "\n",
    "            if file.endswith(\".json\"):\n",
    "                filename = vid_path + '\\\\' + file\n",
    "\n",
    "                # load the data. keypoints are given as x,y,confidence\n",
    "\n",
    "                try:\n",
    "                    with open(filename, 'r') as f:\n",
    "                        datastore = json.load(f)\n",
    "                        valid_num = num\n",
    "                # if the .json is empty, re-use the previous one\n",
    "                except:\n",
    "                    if num > 1:\n",
    "                        with open(vid_path + '\\\\' + files[valid_num], 'r') as f:\n",
    "                            datastore = json.load(f)\n",
    "                    else:\n",
    "                        miss_data = 1\n",
    "                        break\n",
    "                reload = False              \n",
    "                \n",
    "                person_num = 0 # you can dynamically set this if there are multiple people in frame\n",
    "\n",
    "                # store the Hand Points\n",
    "                x = datastore[\"people\"][person_num][\"pose_keypoints_2d\"][4 * 3]  \n",
    "                y = datastore[\"people\"][person_num][\"pose_keypoints_2d\"][(4 * 3) + 1]\n",
    "                R_Hand.append([x, y])\n",
    "                x = datastore[\"people\"][person_num][\"pose_keypoints_2d\"][7 * 3]\n",
    "                y = datastore[\"people\"][person_num][\"pose_keypoints_2d\"][(7 * 3) + 1]\n",
    "                L_Hand.append([x, y])\n",
    "                # store body points\n",
    "                x = datastore[\"people\"][person_num][\"pose_keypoints_2d\"][0]  # 0 = Nose\n",
    "                y = datastore[\"people\"][person_num][\"pose_keypoints_2d\"][(0) + 1]\n",
    "                Nose.append([x, y])\n",
    "                x = datastore[\"people\"][person_num][\"pose_keypoints_2d\"][1 * 3]  # 1 = Neck (Mid shoulder)\n",
    "                y = datastore[\"people\"][person_num][\"pose_keypoints_2d\"][(1 * 3) + 1]\n",
    "                Neck.append([x, y])\n",
    "                x = datastore[\"people\"][person_num][\"pose_keypoints_2d\"][8 * 3]  # 8 = Mid Hip\n",
    "                y = datastore[\"people\"][person_num][\"pose_keypoints_2d\"][(8 * 3) + 1]\n",
    "                MidHip.append([x, y])\n",
    "                x = datastore[\"people\"][person_num][\"pose_keypoints_2d\"][15 * 3]  # 15 = REye\n",
    "                y = datastore[\"people\"][person_num][\"pose_keypoints_2d\"][(15 * 3) + 1]\n",
    "                REye.append([x, y])\n",
    "                x = datastore[\"people\"][person_num][\"pose_keypoints_2d\"][16 * 3]  # 16 = LEye\n",
    "                y = datastore[\"people\"][person_num][\"pose_keypoints_2d\"][(16 * 3) + 1]\n",
    "                LEye.append([x, y])\n",
    "                x = datastore[\"people\"][person_num][\"pose_keypoints_2d\"][3 * 3]  # 3 = RElb\n",
    "                y = datastore[\"people\"][person_num][\"pose_keypoints_2d\"][(3 * 3) + 1]\n",
    "                RElb.append([x, y])\n",
    "                x = datastore[\"people\"][person_num][\"pose_keypoints_2d\"][6 * 3]  # 6 = LElb\n",
    "                y = datastore[\"people\"][person_num][\"pose_keypoints_2d\"][(6 * 3) + 1]\n",
    "                LElb.append([x, y])\n",
    "                x = datastore[\"people\"][person_num][\"pose_keypoints_2d\"][12 * 3]  # 12 = LHip\n",
    "                y = datastore[\"people\"][person_num][\"pose_keypoints_2d\"][(12 * 3) + 1]\n",
    "                LHip.append([x, y])\n",
    "                x = datastore[\"people\"][person_num][\"pose_keypoints_2d\"][9 * 3]  # 9 = RHip\n",
    "                y = datastore[\"people\"][person_num][\"pose_keypoints_2d\"][(9 * 3) + 1]\n",
    "                RHip.append([x, y])\n",
    "                x = datastore[\"people\"][person_num][\"pose_keypoints_2d\"][18 * 3]  # 18 = LEar\n",
    "                y = datastore[\"people\"][person_num][\"pose_keypoints_2d\"][(18 * 3) + 1]\n",
    "                LEar.append([x, y])\n",
    "                x = datastore[\"people\"][person_num][\"pose_keypoints_2d\"][17 * 3]  # 17 = REar\n",
    "                y = datastore[\"people\"][person_num][\"pose_keypoints_2d\"][(17 * 3) + 1]\n",
    "                REar.append([x, y])\n",
    "                \n",
    "                prev_file = datastore\n",
    "                prev_hip_x = datastore[\"people\"][person_num][\"pose_keypoints_2d\"][8 * 3]\n",
    "            \n",
    "        # make a dataframe\n",
    "        df = pd.DataFrame(list(zip( R_Hand, L_Hand,Nose, Neck, MidHip, REye, LEye,\n",
    "                                   RElb, LElb,LHip, RHip)),\n",
    "                          columns=[ 'R_Hand','L_Hand','Nose', 'Neck', 'MidHip', 'REye', 'LEye',\n",
    "                                   'RElb', 'LElb', 'LHip', 'RHip'])\n",
    "        return df\n",
    "\n",
    "\n",
    "def calculate_distance(Hand, FPS):\n",
    "    \"\"\"\n",
    "    This just calculates the displacement between each set of points, then the\n",
    "    velocity from the displacement.\n",
    "    \"\"\"\n",
    "    IDX = 0\n",
    "    dist = []\n",
    "    vel = []\n",
    "    for coords in Hand[1:]:\n",
    "        Prev_coords = Hand[IDX]\n",
    "        # first calculate displacement\n",
    "        DISPLACE = math.hypot(float(coords[0]) - float(Prev_coords[0]), float(coords[1]) - float(Prev_coords[1]))\n",
    "        dist.append(DISPLACE)\n",
    "        # then calculate velocity\n",
    "        vel.append(DISPLACE * FPS)\n",
    "    return (dist, vel)\n",
    "\n",
    "\n",
    "def write_data_to_file(data, filename, path):\n",
    "    fullfile = path + filename\n",
    "    output_array = np.array(data)\n",
    "    np.savetxt(fullfile, output_array, delimiter=\"\\t\")\n",
    "\n",
    "\n",
    "def make_vel_conf_plots(data_L, data_R, conf_L, conf_R, source, path):\n",
    "    plt.figure(figsize=(20, 10))\n",
    "\n",
    "    # Right affector velocity\n",
    "    plt.subplot(2, 2, 1)\n",
    "    plt.plot(data_R)\n",
    "\n",
    "    plt.xlabel('frame', fontsize=20)\n",
    "    plt.ylabel('velocity (px per s)', fontsize=20)\n",
    "    plt.title(('Right ' + source + ' velocity'), fontsize=24)\n",
    "\n",
    "    # Right affector confidence\n",
    "    plt.subplot(2, 2, 2)\n",
    "    plt.plot(conf_R)\n",
    "\n",
    "    plt.xlabel('frame', fontsize=20)\n",
    "    plt.ylabel('confidence', fontsize=20)\n",
    "    plt.title(('Right ' + source + ' confidence'), fontsize=24)\n",
    "\n",
    "    # Left affector velocity\n",
    "    plt.subplot(2, 2, 3)\n",
    "    plt.plot(data_L)\n",
    "\n",
    "    plt.xlabel('frame', fontsize=20)\n",
    "    plt.ylabel('velocity (px per s)', fontsize=20)\n",
    "    plt.title(('Left ' + source + ' velocity'), fontsize=24)\n",
    "\n",
    "    # left affector confidence\n",
    "    plt.subplot(2, 2, 4)\n",
    "    plt.plot(conf_L)\n",
    "\n",
    "    plt.xlabel('frame', fontsize=20)\n",
    "    plt.ylabel('confidence', fontsize=20)\n",
    "    plt.title(('Left ' + source + ' confidence'), fontsize=24)\n",
    "\n",
    "    plt.subplots_adjust(hspace=0.7)\n",
    "\n",
    "    figname = path + '\\\\velocity_profile_' + source + '.png'\n",
    "    plt.savefig(figname)\n",
    "\n",
    "    plt.gcf().clear()\n",
    "    plt.close()\n",
    "\n"
   ]
  },
  {
   "cell_type": "markdown",
   "id": "9a67faa6",
   "metadata": {},
   "source": [
    "You can run this function with a variable number of arguments, providing the directory where all of the .json files are stored (1st argument), a first and last frame if you want to extract data from a specific annotation, for instance (2nd and 3rd argument), tell it whether or not you want it to smooth the data (4th argument - True or False), and whether or not it should save the resulting dataframe (5th argument).<br>\n",
    "This provides a dataframe output where we have an x,y pair for each keypoint. Note that the above code can of course include more keypoints in the dataframe, depending on what you are interested in working with"
   ]
  },
  {
   "cell_type": "code",
   "execution_count": 3,
   "id": "c5d5728e",
   "metadata": {},
   "outputs": [
    {
     "data": {
      "text/html": [
       "<div>\n",
       "<style scoped>\n",
       "    .dataframe tbody tr th:only-of-type {\n",
       "        vertical-align: middle;\n",
       "    }\n",
       "\n",
       "    .dataframe tbody tr th {\n",
       "        vertical-align: top;\n",
       "    }\n",
       "\n",
       "    .dataframe thead th {\n",
       "        text-align: right;\n",
       "    }\n",
       "</style>\n",
       "<table border=\"1\" class=\"dataframe\">\n",
       "  <thead>\n",
       "    <tr style=\"text-align: right;\">\n",
       "      <th></th>\n",
       "      <th>R_Hand</th>\n",
       "      <th>L_Hand</th>\n",
       "      <th>Nose</th>\n",
       "      <th>Neck</th>\n",
       "      <th>MidHip</th>\n",
       "      <th>REye</th>\n",
       "      <th>LEye</th>\n",
       "      <th>RElb</th>\n",
       "      <th>LElb</th>\n",
       "      <th>LHip</th>\n",
       "      <th>RHip</th>\n",
       "    </tr>\n",
       "  </thead>\n",
       "  <tbody>\n",
       "    <tr>\n",
       "      <th>0</th>\n",
       "      <td>[420, 712.084]</td>\n",
       "      <td>[753.128, 712.078]</td>\n",
       "      <td>[600.752, 214.451]</td>\n",
       "      <td>[596.832, 354.238]</td>\n",
       "      <td>[604.905, 712.066]</td>\n",
       "      <td>[572.096, 189.772]</td>\n",
       "      <td>[613.285, 185.679]</td>\n",
       "      <td>[415.794, 555.689]</td>\n",
       "      <td>[769.465, 543.369]</td>\n",
       "      <td>[679.042, 712.09]</td>\n",
       "      <td>[522.725, 712.067]</td>\n",
       "    </tr>\n",
       "    <tr>\n",
       "      <th>1</th>\n",
       "      <td>[420.015, 712.085]</td>\n",
       "      <td>[753.168, 712.082]</td>\n",
       "      <td>[600.752, 214.46]</td>\n",
       "      <td>[596.835, 354.227]</td>\n",
       "      <td>[604.925, 712.066]</td>\n",
       "      <td>[572.095, 189.775]</td>\n",
       "      <td>[613.283, 185.686]</td>\n",
       "      <td>[415.798, 555.627]</td>\n",
       "      <td>[769.444, 543.45]</td>\n",
       "      <td>[679.055, 712.091]</td>\n",
       "      <td>[522.75, 712.067]</td>\n",
       "    </tr>\n",
       "    <tr>\n",
       "      <th>2</th>\n",
       "      <td>[420.047, 712.086]</td>\n",
       "      <td>[757.141, 712.082]</td>\n",
       "      <td>[596.89, 214.453]</td>\n",
       "      <td>[596.84, 354.246]</td>\n",
       "      <td>[604.955, 712.067]</td>\n",
       "      <td>[572.089, 189.775]</td>\n",
       "      <td>[613.262, 185.674]</td>\n",
       "      <td>[415.787, 555.679]</td>\n",
       "      <td>[769.448, 543.474]</td>\n",
       "      <td>[679.085, 712.092]</td>\n",
       "      <td>[522.766, 712.068]</td>\n",
       "    </tr>\n",
       "    <tr>\n",
       "      <th>3</th>\n",
       "      <td>[420.044, 712.086]</td>\n",
       "      <td>[757.174, 712.084]</td>\n",
       "      <td>[596.884, 214.446]</td>\n",
       "      <td>[596.842, 354.247]</td>\n",
       "      <td>[604.926, 712.068]</td>\n",
       "      <td>[572.087, 189.768]</td>\n",
       "      <td>[613.243, 185.677]</td>\n",
       "      <td>[415.815, 555.653]</td>\n",
       "      <td>[769.442, 543.512]</td>\n",
       "      <td>[679.072, 712.093]</td>\n",
       "      <td>[518.758, 712.067]</td>\n",
       "    </tr>\n",
       "    <tr>\n",
       "      <th>4</th>\n",
       "      <td>[424.031, 712.087]</td>\n",
       "      <td>[757.232, 712.082]</td>\n",
       "      <td>[596.895, 214.443]</td>\n",
       "      <td>[596.816, 354.224]</td>\n",
       "      <td>[604.933, 712.067]</td>\n",
       "      <td>[572.091, 189.775]</td>\n",
       "      <td>[613.24, 185.666]</td>\n",
       "      <td>[415.823, 555.676]</td>\n",
       "      <td>[769.443, 543.519]</td>\n",
       "      <td>[679.089, 712.092]</td>\n",
       "      <td>[522.753, 712.067]</td>\n",
       "    </tr>\n",
       "  </tbody>\n",
       "</table>\n",
       "</div>"
      ],
      "text/plain": [
       "               R_Hand              L_Hand                Nose  \\\n",
       "0      [420, 712.084]  [753.128, 712.078]  [600.752, 214.451]   \n",
       "1  [420.015, 712.085]  [753.168, 712.082]   [600.752, 214.46]   \n",
       "2  [420.047, 712.086]  [757.141, 712.082]   [596.89, 214.453]   \n",
       "3  [420.044, 712.086]  [757.174, 712.084]  [596.884, 214.446]   \n",
       "4  [424.031, 712.087]  [757.232, 712.082]  [596.895, 214.443]   \n",
       "\n",
       "                 Neck              MidHip                REye  \\\n",
       "0  [596.832, 354.238]  [604.905, 712.066]  [572.096, 189.772]   \n",
       "1  [596.835, 354.227]  [604.925, 712.066]  [572.095, 189.775]   \n",
       "2   [596.84, 354.246]  [604.955, 712.067]  [572.089, 189.775]   \n",
       "3  [596.842, 354.247]  [604.926, 712.068]  [572.087, 189.768]   \n",
       "4  [596.816, 354.224]  [604.933, 712.067]  [572.091, 189.775]   \n",
       "\n",
       "                 LEye                RElb                LElb  \\\n",
       "0  [613.285, 185.679]  [415.794, 555.689]  [769.465, 543.369]   \n",
       "1  [613.283, 185.686]  [415.798, 555.627]   [769.444, 543.45]   \n",
       "2  [613.262, 185.674]  [415.787, 555.679]  [769.448, 543.474]   \n",
       "3  [613.243, 185.677]  [415.815, 555.653]  [769.442, 543.512]   \n",
       "4   [613.24, 185.666]  [415.823, 555.676]  [769.443, 543.519]   \n",
       "\n",
       "                 LHip                RHip  \n",
       "0   [679.042, 712.09]  [522.725, 712.067]  \n",
       "1  [679.055, 712.091]   [522.75, 712.067]  \n",
       "2  [679.085, 712.092]  [522.766, 712.068]  \n",
       "3  [679.072, 712.093]  [518.758, 712.067]  \n",
       "4  [679.089, 712.092]  [522.753, 712.067]  "
      ]
     },
     "execution_count": 3,
     "metadata": {},
     "output_type": "execute_result"
    }
   ],
   "source": [
    "body_vid_path = \"./Timeseries_Output/data/\"\n",
    "OP_body = import_json_data(body_vid_path)\n",
    "OP_body.head()"
   ]
  },
  {
   "cell_type": "markdown",
   "id": "90cb87ed",
   "metadata": {},
   "source": [
    "Let's take a look at the velocity profile of the right hand. "
   ]
  },
  {
   "cell_type": "code",
   "execution_count": 4,
   "id": "6203d9ab",
   "metadata": {},
   "outputs": [
    {
     "data": {
      "text/plain": [
       "[<matplotlib.lines.Line2D at 0x1bf4b2e1688>]"
      ]
     },
     "execution_count": 4,
     "metadata": {},
     "output_type": "execute_result"
    },
    {
     "data": {
      "image/png": "[encoded data removed]",
      "text/plain": [
       "<Figure size 432x288 with 1 Axes>"
      ]
     },
     "metadata": {
      "needs_background": "light"
     },
     "output_type": "display_data"
    }
   ],
   "source": [
    "_,R_hand_vel = calculate_distance(OP_body[\"R_Hand\"],25)\n",
    "plt.plot(R_hand_vel)"
   ]
  },
  {
   "cell_type": "markdown",
   "id": "ca1816ad",
   "metadata": {},
   "source": [
    "We see the nice rhythmic \"accordion motion\", so that's great! <br>\n",
    "Now how does this compare to MediaPipe, if we just look at these rather broad movement profiles of the two?\n"
   ]
  },
  {
   "cell_type": "code",
   "execution_count": 5,
   "id": "3b4b566a",
   "metadata": {},
   "outputs": [
    {
     "data": {
      "text/plain": [
       "[<matplotlib.lines.Line2D at 0x1bf4d443208>]"
      ]
     },
     "execution_count": 5,
     "metadata": {},
     "output_type": "execute_result"
    },
    {
     "data": {
      "image/png": "[encoded data removed]",
      "text/plain": [
       "<Figure size 432x288 with 1 Axes>"
      ]
     },
     "metadata": {
      "needs_background": "light"
     },
     "output_type": "display_data"
    }
   ],
   "source": [
    "MP_body = pd.read_csv(\"./Timeseries_Output/ACCORDION_silentgesture_MP.csv\")\n",
    "MP_body.head()\n",
    "\n",
    "# combine the x and y values to match the function input format\n",
    "MP_wrist = [[row[\"X_RIGHT_WRIST\"], row[\"Y_RIGHT_WRIST\"]] for _,row in MP_body.iterrows()]\n",
    "_,R_hand_vel_MP = calculate_distance(MP_wrist, 25)\n",
    "\n",
    "plt.plot(R_hand_vel_MP)\n"
   ]
  },
  {
   "cell_type": "markdown",
   "id": "cf68f0c4",
   "metadata": {},
   "source": [
    "To really compare the time courses, we should plot them together. Currently though, they're on different scales. An easy fix is to normalize the data."
   ]
  },
  {
   "cell_type": "code",
   "execution_count": 6,
   "id": "7b9488da",
   "metadata": {},
   "outputs": [
    {
     "data": {
      "text/plain": [
       "<matplotlib.legend.Legend at 0x1bf4d4b6808>"
      ]
     },
     "execution_count": 6,
     "metadata": {},
     "output_type": "execute_result"
    },
    {
     "data": {
      "image/png": "[encoded data removed]",
      "text/plain": [
       "<Figure size 432x288 with 1 Axes>"
      ]
     },
     "metadata": {
      "needs_background": "light"
     },
     "output_type": "display_data"
    }
   ],
   "source": [
    "R_hand_vel_OP_n = (R_hand_vel - np.min(R_hand_vel)) / (np.max(R_hand_vel) - np.min(R_hand_vel))\n",
    "R_hand_vel_MP_n = (R_hand_vel_MP - np.min(R_hand_vel_MP)) / (np.max(R_hand_vel_MP) - np.min(R_hand_vel_MP))\n",
    "\n",
    "plt.plot(R_hand_vel_OP_n, label=\"OpenPose\")\n",
    "plt.plot(R_hand_vel_MP_n, label=\"MediaPipe\")\n",
    "plt.legend(loc=\"upper left\")"
   ]
  },
  {
   "cell_type": "markdown",
   "id": "59aac391",
   "metadata": {},
   "source": [
    "We can see that the two time-series are very similar, with only minor divergences. We can therefore assume, at least given quality video recordings, the two tracking programs will provide similar quality output. <br>\n",
    "MediaPipe therefore excels in terms of tracking speed, although OpenPose is still useful for situations where we have multiple people in frame simultaneously. "
   ]
  },
  {
   "cell_type": "code",
   "execution_count": null,
   "id": "89f5c764",
   "metadata": {},
   "outputs": [],
   "source": []
  }
 ],
 "metadata": {
  "kernelspec": {
   "display_name": "Python 3",
   "language": "python",
   "name": "python3"
  },
  "language_info": {
   "codemirror_mode": {
    "name": "ipython",
    "version": 3
   },
   "file_extension": ".py",
   "mimetype": "text/x-python",
   "name": "python",
   "nbconvert_exporter": "python",
   "pygments_lexer": "ipython3",
   "version": "3.7.6"
  }
 },
 "nbformat": 4,
 "nbformat_minor": 5
}
